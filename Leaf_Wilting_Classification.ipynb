{
 "cells": [
  {
   "cell_type": "code",
   "execution_count": null,
   "metadata": {
    "colab": {
     "base_uri": "https://localhost:8080/",
     "height": 34
    },
    "colab_type": "code",
    "executionInfo": {
     "elapsed": 423,
     "status": "ok",
     "timestamp": 1586977652684,
     "user": {
      "displayName": "Kenil Sanjivkumar Shah",
      "photoUrl": "https://lh3.googleusercontent.com/a-/AOh14Gjw9FkO0EA9DB1HFZuIH2mjwTHx-00-SrJP4aoY=s64",
      "userId": "06961056622430856717"
     },
     "user_tz": 240
    },
    "id": "GXrCOcXd5cqZ",
    "outputId": "763bb280-23c9-429e-b104-a2c3e4868d13"
   },
   "outputs": [],
   "source": [
    "# Mount the google drive with your google collab file.\n",
    "from google.colab import drive\n",
    "drive.mount('/content/drive') "
   ]
  },
  {
   "cell_type": "code",
   "execution_count": null,
   "metadata": {
    "colab": {},
    "colab_type": "code",
    "id": "fdQedYiy5p0i"
   },
   "outputs": [],
   "source": [
    "# Import necessary packages\n",
    "import tensorflow as tf\n",
    "from tensorflow.python.keras import backend as K \n",
    "from tensorflow.python.keras.preprocessing.image import ImageDataGenerator \n",
    "from tensorflow.python.keras.models import Sequential\n",
    "from tensorflow.python.keras.models import Model \n",
    "from tensorflow.python.keras.layers import Conv2D, MaxPooling2D \n",
    "from tensorflow.python.keras.layers import Activation, Dropout, Flatten, Dense\n",
    "import pandas as pd\n",
    "import numpy as np\n",
    "import matplotlib.pyplot as plt\n",
    "import os\n",
    "import tensorflow as tf\n",
    "from tensorflow.keras import optimizers"
   ]
  },
  {
   "cell_type": "code",
   "execution_count": null,
   "metadata": {
    "colab": {
     "base_uri": "https://localhost:8080/",
     "height": 101
    },
    "colab_type": "code",
    "executionInfo": {
     "elapsed": 341,
     "status": "ok",
     "timestamp": 1586989844155,
     "user": {
      "displayName": "Kenil Sanjivkumar Shah",
      "photoUrl": "https://lh3.googleusercontent.com/a-/AOh14Gjw9FkO0EA9DB1HFZuIH2mjwTHx-00-SrJP4aoY=s64",
      "userId": "06961056622430856717"
     },
     "user_tz": 240
    },
    "id": "31nAgZle5u4O",
    "outputId": "274635c4-db53-4a7d-d1b2-5435bc3837d3"
   },
   "outputs": [],
   "source": [
    "\"\"\"\n",
    "Copy the training and validation data to the runtime memory and extract those files for\n",
    "further processing.\n",
    "\"\"\"\n",
    "#!mkdir FinalData/\n",
    "#!cp /content/drive/My\\ Drive/Competitive/Dataset/augmented_2_3.zip FinalData/\n",
    "#!unzip FinalData/augmented_2_3.zip -d FinalData/\n",
    "\n",
    "#!mkdir ValData/\n",
    "#!cp  /content/drive/My\\ Drive/Competitive/Dataset/TestData.zip ValData/\n",
    "#!unzip ValData/TestData.zip -d ValData/\n",
    "\n",
    "\n",
    "train_data_dir = \"/content/FinalData/augmented_2_3\"\n",
    "val_data_dir = \"/content/FinalData/augmented_2_3\"\n",
    "num_train = 0\n",
    "num_val = 0\n",
    "\n",
    "for i in os.listdir(train_data_dir):\n",
    "    if i.startswith(\".\"):\n",
    "        os.rmdir(os.path.join(train_data_dir, i))\n",
    "    else:\n",
    "        print(i,len(os.listdir(os.path.join(train_data_dir, i))))\n",
    "        num_train += len(os.listdir(os.path.join(train_data_dir, i)))\n",
    "        \n",
    "for i in os.listdir(val_data_dir):\n",
    "    if i.startswith(\".\"):\n",
    "        os.rmdir(os.path.join(val_data_dir, i))\n",
    "    else:\n",
    "        num_val += len(os.listdir(os.path.join(val_data_dir, i)))\n",
    "\n",
    "img_width, img_height = 224, 224\n",
    "if K.image_data_format() == 'channels_first':\n",
    "    input_shape= (3, img_width, img_height)\n",
    "else:\n",
    "    input_shape = (img_width, img_height, 3)"
   ]
  },
  {
   "cell_type": "code",
   "execution_count": null,
   "metadata": {
    "colab": {},
    "colab_type": "code",
    "id": "PprbFmwG8Nnr"
   },
   "outputs": [],
   "source": [
    "from tensorflow.keras.applications.resnet50 import preprocess_input\n",
    "\n",
    "from tensorflow.python.keras.applications.densenet import DenseNet121\n",
    "from tensorflow.python.keras.applications.vgg16 import VGG16\n",
    "from tensorflow.python.keras.applications.vgg19 import VGG19\n",
    "from tensorflow.python.keras.applications.inception_v3 import InceptionV3\n",
    "from tensorflow.keras.applications import ResNet101, ResNet50\n",
    "from tensorflow.keras.applications.inception_resnet_v2 import InceptionResNetV2\n",
    "from tensorflow.keras.applications.xception import Xception\n",
    "\n",
    "base_model = ResNet50(input_shape=(224, 224, 3),\n",
    "                                  weights='imagenet',\n",
    "                                  include_top = False,\n",
    "                                  pooling='avg')\n",
    "\n",
    "for layer in base_model.layers:\n",
    "    layer.trainable = False\n",
    "x = base_model.output\n",
    "x = Dense(1024)(x)\n",
    "x = Activation('relu')(x)\n",
    "x = Dense(512)(x)\n",
    "x = Activation('relu')(x)\n",
    "x = Dense(64)(x)\n",
    "x = Activation('relu')(x)\n",
    "\n",
    "predictions = Dense(5, activation='softmax')(x)\n",
    "model = Model(inputs=base_model.input, outputs=predictions)\n",
    "model.compile(loss = \"categorical_crossentropy\", optimizer = optimizers.Adam(lr=0.001), metrics = ['accuracy'])\n",
    "\n"
   ]
  },
  {
   "cell_type": "code",
   "execution_count": null,
   "metadata": {
    "colab": {
     "base_uri": "https://localhost:8080/",
     "height": 67
    },
    "colab_type": "code",
    "executionInfo": {
     "elapsed": 408,
     "status": "ok",
     "timestamp": 1586990867645,
     "user": {
      "displayName": "Kenil Sanjivkumar Shah",
      "photoUrl": "https://lh3.googleusercontent.com/a-/AOh14Gjw9FkO0EA9DB1HFZuIH2mjwTHx-00-SrJP4aoY=s64",
      "userId": "06961056622430856717"
     },
     "user_tz": 240
    },
    "id": "pI4sbhqK9i4P",
    "outputId": "2d10b0cb-0f72-4c19-cf32-368db15d9d5c"
   },
   "outputs": [],
   "source": [
    "import fnmatch\n",
    "from sklearn.utils import class_weight\n",
    "y=[]\n",
    "for i in range(5):\n",
    "    y.extend([i for j in range(len(fnmatch.filter(os.listdir(\"/content/FinalData/final_training_data/\"+str(i)),'*.jpg')))])\n",
    "class_wgt = class_weight.compute_class_weight('balanced',np.unique(y),y)\n",
    "class_dict = dict(zip(range(5),class_wgt))\n",
    "print(class_dict)\n",
    "\n",
    "from tensorflow.keras.callbacks import EarlyStopping, ModelCheckpoint, TensorBoard, ReduceLROnPlateau\n",
    "def get_callbacks():\n",
    "    path_checkpoint ='checkpoint_keras'  \n",
    "    log_dir='logs'   \n",
    "    callback_checkpoint = ModelCheckpoint(filepath=path_checkpoint,\n",
    "                                         monitor='accuracy',\n",
    "                                         verbose=1,\n",
    "                                         save_weights_only=False,\n",
    "                                         save_best_only=True,\n",
    "                                         mode='max',\n",
    "                                         period=1)\n",
    "    callback_early_stopping = EarlyStopping(monitor='accuracy',\n",
    "                                           patience=5,\n",
    "                                           verbose=1)\n",
    "    callback_tensorboard = TensorBoard(log_dir=log_dir,\n",
    "                                      histogram_freq=0,\n",
    "                                      write_graph=False)\n",
    "    callback_reduce_lr = ReduceLROnPlateau(monitor='accuracy',\n",
    "                                          factor=0.1,\n",
    "                                          min_lr=1e-4,\n",
    "                                          patience=3,\n",
    "                                          verbose=1)\n",
    "    callbacks = [callback_checkpoint, callback_tensorboard, callback_reduce_lr]\n",
    "    return callbacks\n"
   ]
  },
  {
   "cell_type": "code",
   "execution_count": null,
   "metadata": {
    "colab": {
     "base_uri": "https://localhost:8080/",
     "height": 1000
    },
    "colab_type": "code",
    "executionInfo": {
     "elapsed": 19055,
     "status": "error",
     "timestamp": 1586991749656,
     "user": {
      "displayName": "Kenil Sanjivkumar Shah",
      "photoUrl": "https://lh3.googleusercontent.com/a-/AOh14Gjw9FkO0EA9DB1HFZuIH2mjwTHx-00-SrJP4aoY=s64",
      "userId": "06961056622430856717"
     },
     "user_tz": 240
    },
    "id": "fNrL3ez69nTz",
    "outputId": "a13e5046-25ef-4865-a456-e549a2b0d486"
   },
   "outputs": [],
   "source": [
    "batch_size = 128\n",
    "epochs = 50                                                                \n",
    "train_datagen = ImageDataGenerator(preprocessing_function=preprocess_input,\n",
    "                                   rotation_range=20,\n",
    "                                  zoom_range=0.25,\n",
    "                                  width_shift_range=0.3,\n",
    "                                  height_shift_range=0.3,\n",
    "                                  horizontal_flip=True,\n",
    "                                  fill_mode=\"nearest\")\n",
    "train_generator = train_datagen.flow_from_directory(train_data_dir, \n",
    "                                                    target_size =(img_width, img_height),\n",
    "                                                    batch_size = batch_size, class_mode = 'categorical',color_mode='rgb')\n",
    "validation_generator = train_datagen.flow_from_directory( val_data_dir, \n",
    "                                                         target_size =(img_width, img_height),\n",
    "                                                         batch_size = batch_size, class_mode ='categorical',color_mode='rgb') \n",
    "model.fit_generator(train_generator, \n",
    "                    steps_per_epoch = num_train // batch_size, \n",
    "                    epochs = epochs,\n",
    "                    callbacks = get_callbacks(),class_weight= class_dict)\n"
   ]
  },
  {
   "cell_type": "code",
   "execution_count": null,
   "metadata": {
    "colab": {
     "base_uri": "https://localhost:8080/",
     "height": 246
    },
    "colab_type": "code",
    "executionInfo": {
     "elapsed": 1197,
     "status": "error",
     "timestamp": 1586985967359,
     "user": {
      "displayName": "Kenil Sanjivkumar Shah",
      "photoUrl": "https://lh3.googleusercontent.com/a-/AOh14Gjw9FkO0EA9DB1HFZuIH2mjwTHx-00-SrJP4aoY=s64",
      "userId": "06961056622430856717"
     },
     "user_tz": 240
    },
    "id": "8YjBjfJTGkL2",
    "outputId": "0a60b494-4212-4162-fc35-faa65ba5adc3"
   },
   "outputs": [],
   "source": [
    "history = model.history\n",
    "import matplotlib.pyplot as plt\n",
    "print(history.history)\n",
    "plt.plot(history.history['accuracy'])\n",
    "plt.plot(history.history['val_accuracy'])\n",
    "plt.title('model accuracy')\n",
    "plt.ylabel('accuracy')\n",
    "plt.xlabel('epoch')\n",
    "plt.legend(['train', 'val'], loc='upper left')\n",
    "plt.savefig(\"Accuracy_curves.png\")\n",
    "plt.show()\n",
    "# summarize history for loss\n",
    "plt.plot(history.history['loss'])\n",
    "plt.plot(history.history['val_loss'])\n",
    "plt.title('model loss')\n",
    "plt.ylabel('loss')\n",
    "plt.xlabel('epoch')\n",
    "plt.legend(['train', 'val'], loc='upper left')\n",
    "plt.savefig(\"Loss_curves.png\")"
   ]
  },
  {
   "cell_type": "code",
   "execution_count": null,
   "metadata": {
    "colab": {
     "base_uri": "https://localhost:8080/",
     "height": 67
    },
    "colab_type": "code",
    "executionInfo": {
     "elapsed": 6622,
     "status": "ok",
     "timestamp": 1586991376575,
     "user": {
      "displayName": "Kenil Sanjivkumar Shah",
      "photoUrl": "https://lh3.googleusercontent.com/a-/AOh14Gjw9FkO0EA9DB1HFZuIH2mjwTHx-00-SrJP4aoY=s64",
      "userId": "06961056622430856717"
     },
     "user_tz": 240
    },
    "id": "6e1c8R0HTyLA",
    "outputId": "e1001480-ce13-4376-896c-6b8981f9a1d8"
   },
   "outputs": [],
   "source": [
    "import numpy\n",
    "import sklearn.metrics as metrics\n",
    "img_width, img_height = 224, 224\n",
    "batch_size =1 \n",
    "epochs = 100\n",
    "test_set_dir = \"/content/ValData\"\n",
    "val_set_dir = \"/content/ValData\"\n",
    "\n",
    "num_test = len(os.listdir(test_set_dir))\n",
    "\n",
    "print (\"Number of images in test set: \", num_test)\n",
    "\n",
    "test_datagen = ImageDataGenerator(preprocessing_function=preprocess_input)\n",
    "test_generator = test_datagen.flow_from_directory(val_set_dir, \n",
    "                                                    target_size =(img_width, img_height), \n",
    "                                                    batch_size = batch_size, class_mode = 'categorical',color_mode='rgb',shuffle=False)\n",
    " \n",
    "test_steps_per_epoch = numpy.math.ceil(test_generator.samples / test_generator.batch_size)\n",
    "\n",
    "predictions = model.predict_generator(test_generator, steps = test_generator.samples)\n",
    "\n",
    "predicted_classes = numpy.argmax(predictions, axis=1)\n",
    "\n",
    "files = test_generator.filenames\n",
    "#files=files.sort()\n",
    "\n",
    "def validation():\n",
    "    names = []\n",
    "    for n in files:\n",
    "        names.append(int(n.split(\"_\")[1].split(\".\")[0]))\n",
    "    acc = 0\n",
    "    print(metrics.confusion_matrix(names,predicted_classes))\n",
    "    print(metrics.accuracy_score(names,predicted_classes))\n",
    "    print(metrics.classification_report(names,predicted_classes))\n",
    "\n",
    "#validation()\n",
    "\n",
    "output=[0,0,0,0,0]\n",
    "print(np.bincount(predicted_classes))\n",
    "import csv    \n",
    "with open('predictions.csv', mode='w', newline='') as csv_file:\n",
    "    csv_writer = csv.writer(csv_file)\n",
    "    for x in predicted_classes:\n",
    "        output2 = output[:]\n",
    "        output2[int(x)] = 1\n",
    "        csv_writer.writerow(output2)"
   ]
  }
 ],
 "metadata": {
  "accelerator": "GPU",
  "colab": {
   "authorship_tag": "ABX9TyO0MwwwNGJ4D//IW/NmnI/6",
   "collapsed_sections": [],
   "machine_shape": "hm",
   "mount_file_id": "1NKiz-3ZNnptdgGMPIrPRl4z7rc6ngxUR",
   "name": "Main.ipynb",
   "provenance": [],
   "toc_visible": true
  },
  "kernelspec": {
   "display_name": "Python 3",
   "language": "python",
   "name": "python3"
  },
  "language_info": {
   "codemirror_mode": {
    "name": "ipython",
    "version": 3
   },
   "file_extension": ".py",
   "mimetype": "text/x-python",
   "name": "python",
   "nbconvert_exporter": "python",
   "pygments_lexer": "ipython3",
   "version": "3.7.4"
  }
 },
 "nbformat": 4,
 "nbformat_minor": 1
}
